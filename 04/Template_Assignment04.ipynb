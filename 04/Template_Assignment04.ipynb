{
 "cells": [
  {
   "cell_type": "markdown",
   "metadata": {},
   "source": [
    "# This is the python template for Assignment 04.  \n",
    "- You must use this template.  \n",
    "- You must not change any signatures of the methods, only edit the sections indicated with \"Write your code here.\"  \n",
    "- The return of every function has to be in the right format, otherwise this is a desk reject.  \n",
    "- Plagiarism leads to failing the assignment!  \n",
    "- We will terminate the script after 10 min, try to use efficient algorithms."
   ]
  },
  {
   "cell_type": "code",
   "execution_count": 1,
   "metadata": {},
   "outputs": [],
   "source": [
    "import pandas as pd"
   ]
  },
  {
   "cell_type": "code",
   "execution_count": 2,
   "metadata": {},
   "outputs": [],
   "source": [
    "def get_name():\n",
    "    return \"Ali Salaheldin Ali Ahmed\"\n",
    "def get_matriculationnumber():\n",
    "    return 7043295"
   ]
  },
  {
   "cell_type": "markdown",
   "metadata": {},
   "source": [
    "## Useful information:\n",
    "\n",
    "The structure of a CART is a dict. Use the same names as shown in the example, using other names makes your format invalid and leads to a desk reject."
   ]
  },
  {
   "cell_type": "code",
   "execution_count": 3,
   "metadata": {},
   "outputs": [],
   "source": [
    "cart = { \"name\":\"X\", \"mean\":456, \"split_by_feature\": \"aes\", \"error_of_split\": 0.0,\n",
    "        \"successor_left\": { \"name\":\"XL\", \"mean\":1234, \"split_by_feature\": None, \"error_of_split\":None,\n",
    "                           \"successor_left\":None,\n",
    "                           \"successor_right\":None\n",
    "                          },\n",
    "        \"successor_right\":{ \"name\":\"XR\", \"mean\":258, \"split_by_feature\": None,\"error_of_split\":None,\n",
    "                           \"successor_left\":None,\n",
    "                           \"successor_right\":None\n",
    "                          }\n",
    "       }"
   ]
  },
  {
   "cell_type": "markdown",
   "metadata": {},
   "source": [
    "The names of the features must be used as defined in this list, using other names makes your format invalid and leads to a desk reject."
   ]
  },
  {
   "cell_type": "code",
   "execution_count": 4,
   "metadata": {},
   "outputs": [],
   "source": [
    "features = [\"secompress\", \"encryption\", \"aes\", \"blowfish\", \"algorithm\", \"rar\", \"zip\", \"signature\",\n",
    "            \"timestamp\", \"segmentation\", \"onehundredmb\", \"onegb\"]"
   ]
  },
  {
   "cell_type": "markdown",
   "metadata": {},
   "source": [
    "# Task 1: Create a CART"
   ]
  },
  {
   "cell_type": "code",
   "execution_count": 23,
   "metadata": {},
   "outputs": [],
   "source": [
    "# Write your helper functions here, if needed\n",
    "class Node:\n",
    "    def __init__(self, name, mean, feature=None, error_of_split=None, left=None, right=None):\n",
    "        self.name = name\n",
    "        self.mean = mean\n",
    "        self.feature = feature\n",
    "        self.error = error_of_split\n",
    "        self.left = left\n",
    "        self.right = right\n",
    "\n",
    "    def __str__(self):\n",
    "        if self.feature is None:\n",
    "            return f\"{self.name}({self.mean})\"\n",
    "        return f\"{self.name}({self.feature}, m={self.mean}, e={self.error})\"\n",
    "\n",
    "    def as_dict(self):\n",
    "        return {\n",
    "            \"name\": self.name,\n",
    "            \"mean\": self.mean,\n",
    "            \"split_by_feature\": self.feature,\n",
    "            \"error_of_split\": self.error,\n",
    "            \"successor_left\": self.left.as_dict() if self.left is not None else None,\n",
    "            \"successor_right\": self.right.as_dict() if self.right is not None else None,\n",
    "        }\n",
    "\n",
    "\n",
    "class Split:\n",
    "    def __init__(self, X: pd.DataFrame, y: pd.Series, feature: str):\n",
    "        self.feature = feature\n",
    "\n",
    "        f = X[feature] == 1\n",
    "        self.data_with = X[f], y[f]\n",
    "        self.mean_with = self.data_with[1].mean()\n",
    "\n",
    "        self.data_without = X[~f], y[~f]\n",
    "        self.mean_without = self.data_without[1].mean()\n",
    "\n",
    "        self.error = (\n",
    "            ((self.data_with[1] - self.mean_with)**2).sum() + \n",
    "            ((self.data_without[1] - self.mean_without)**2).sum()\n",
    "        )\n",
    "\n",
    "    def is_valid(self):\n",
    "        return len(self.data_with[1]) > 0 and len(self.data_without[1]) > 0\n",
    "    \n",
    "    def __lt__(self, other):\n",
    "        return self.error < other.error\n",
    "\n",
    "    def __eq__(self, other):\n",
    "        return self.error == other.error\n",
    "\n",
    "    def __str__(self):\n",
    "        return f\"Split(feature={self.feature}, error={self.error})\"\n",
    "\n",
    "class CARTStep:\n",
    "    def __init__(self, X: pd.DataFrame, y: pd.Series, node: Node, path: set[str] = None):\n",
    "        self.X = X\n",
    "        self.y = y\n",
    "        self.node = node\n",
    "        self.path = path if path is not None else set()\n",
    "\n",
    "    def split_by(self, split: Split):\n",
    "        self.node.feature = split.feature\n",
    "        self.node.error = split.error\n",
    "        self.node.left = Node(\n",
    "            f\"{self.node.name}L\",\n",
    "            split.mean_with,\n",
    "        )\n",
    "        self.node.right = Node(\n",
    "            f\"{self.node.name}R\",\n",
    "            split.mean_without,\n",
    "        )\n",
    "\n",
    "        (Xl, yl) = split.data_with\n",
    "        (Xr, yr) = split.data_without\n",
    "        succ_path = self.path | {split.feature}\n",
    "        return (\n",
    "            CARTStep(Xl, yl,\n",
    "                     node=self.node.left,\n",
    "                     path=succ_path),\n",
    "            CARTStep(Xr, yr,\n",
    "                     node=self.node.right,\n",
    "                     path=succ_path),\n",
    "        )\n",
    "\n",
    "def print_cart(cart):\n",
    "    queue = [cart]\n",
    "    level = 1\n",
    "    while queue:\n",
    "        node = queue.pop(0)\n",
    "        if node is not None:\n",
    "            if node[\"split_by_feature\"] is None:\n",
    "                print(f\"{node['name']}(m={node['mean']})\", end=\"\")\n",
    "            else:\n",
    "                print(f\"{node['name']}({node['split_by_feature']}, {node['mean']}, e={node['error_of_split']})\", end=\"\")\n",
    "            queue.extend((node['successor_left'],node['successor_right']))\n",
    "        print(\"\\t\", end=\"\")\n",
    "        if (level := level - 1) == 0:\n",
    "            print(\"\\n\", end=\"\")\n",
    "            level = len(queue)"
   ]
  },
  {
   "cell_type": "code",
   "execution_count": 28,
   "metadata": {},
   "outputs": [],
   "source": [
    "ALL_FEATURES = {\"secompress\", \"encryption\", \"aes\", \"blowfish\", \"algorithm\", \"rar\", \"zip\", \"signature\",\n",
    "                \"timestamp\", \"segmentation\", \"onehundredmb\", \"onegb\"}\n",
    "\n",
    "\n",
    "def get_cart(sample_set_csv):\n",
    "    # The sample_set_csv is a file path to a csv data, this can be imported into a dataframe\n",
    "    df = pd.read_csv(sample_set_csv)\n",
    "    # TODO: Write your code here. And change the return.\n",
    "    X = df[features]\n",
    "    y = df['performance']\n",
    "    root = Node(\"X\", y.mean())\n",
    "    queue = [CARTStep(X, y, root)]\n",
    "    while queue:\n",
    "        curr = queue.pop(0)\n",
    "        n = len(curr.y)\n",
    "        candidate_features = ALL_FEATURES - curr.path\n",
    "        if not candidate_features or n < 3:\n",
    "            continue\n",
    "        split = min(split \n",
    "                    for split in (\n",
    "                        Split(curr.X, curr.y, f)\n",
    "                        for f in sorted(candidate_features)\n",
    "                    ) if split.is_valid())\n",
    "        queue.extend(curr.split_by(split))\n",
    "    return root.as_dict()"
   ]
  },
  {
   "cell_type": "markdown",
   "metadata": {},
   "source": [
    "# Task 2a: Highest influencing feature"
   ]
  },
  {
   "cell_type": "code",
   "execution_count": 29,
   "metadata": {},
   "outputs": [],
   "source": [
    "# Write your helper functions here, if needed"
   ]
  },
  {
   "cell_type": "code",
   "execution_count": 31,
   "metadata": {},
   "outputs": [],
   "source": [
    "def get_highest_influence_feature(cart):\n",
    "    return cart['split_by_feature']"
   ]
  },
  {
   "cell_type": "markdown",
   "metadata": {},
   "source": [
    "# Task 2b: Calculate the error rate"
   ]
  },
  {
   "cell_type": "code",
   "execution_count": 34,
   "metadata": {},
   "outputs": [],
   "source": [
    "# Write your helper functions here, if needed\n",
    "def get_error_fn(cart): \n",
    "    def predict(X: pd.DataFrame) -> float:\n",
    "        node = cart\n",
    "        y = cart['mean']\n",
    "        while (feature := node['split_by_feature']) is not None:\n",
    "            if X[feature] == 1:\n",
    "                node = node['successor_left']\n",
    "            else:\n",
    "                node = node['successor_right']\n",
    "            y = node['mean']\n",
    "        return y\n",
    "    def sample_error(df: pd.DataFrame) -> float:\n",
    "        X = df[features]\n",
    "        y = df['performance']\n",
    "        return abs(y - predict(X))\n",
    "    return sample_error"
   ]
  },
  {
   "cell_type": "code",
   "execution_count": 48,
   "metadata": {},
   "outputs": [],
   "source": [
    "def get_error_rate(cart, sample_set_csv):\n",
    "    # The sample_set_csv is a file path to a csv data, this can be imported into a dataframe\n",
    "    df = pd.read_csv(sample_set_csv)\n",
    "    sample_error = get_error_fn(cart)\n",
    "    errors = df.aggregate(sample_error, axis=\"columns\")\n",
    "    return errors.mean()"
   ]
  },
  {
   "cell_type": "markdown",
   "metadata": {},
   "source": [
    "# Task 2c: Generate optimal configuration"
   ]
  },
  {
   "cell_type": "code",
   "execution_count": null,
   "metadata": {},
   "outputs": [],
   "source": [
    "# Write your helper functions here, if needed"
   ]
  },
  {
   "cell_type": "code",
   "execution_count": null,
   "metadata": {},
   "outputs": [],
   "source": [
    "def get_optimal_configuration(cart, partial_configuration):\n",
    "    # TODO: Write your code here. And change the return.\n",
    "    return {\"rar\", \"timestamp\"}"
   ]
  },
  {
   "cell_type": "markdown",
   "metadata": {},
   "source": [
    "# Tests:  \n",
    "In the following cells, we provide you some test cases (but not all possible test cases!)"
   ]
  },
  {
   "cell_type": "code",
   "execution_count": 27,
   "metadata": {},
   "outputs": [
    {
     "name": "stdout",
     "output_type": "stream",
     "text": [
      "passed\n"
     ]
    }
   ],
   "source": [
    "# Task 1\n",
    "\n",
    "test_cart = {'name': 'X', 'mean': 763.2, 'split_by_feature': 'segmentation', 'error_of_split': 6.0, \n",
    "             'successor_left': \n",
    "                 {'name': 'XL', 'mean': 772.0, 'split_by_feature': 'onegb', 'error_of_split': 0.0, \n",
    "                  'successor_left': \n",
    "                      {'name': 'XLL', 'mean': 770.0, 'split_by_feature': None, 'error_of_split': None, \n",
    "                       'successor_left': None, \n",
    "                       'successor_right': None\n",
    "                      }, \n",
    "                  'successor_right': \n",
    "                      {'name': 'XLR', 'mean': 773.0, 'split_by_feature': None, 'error_of_split': None, \n",
    "                       'successor_left': None, \n",
    "                       'successor_right': None\n",
    "                      }\n",
    "                 }, \n",
    "             'successor_right': \n",
    "                 {'name': 'XR', 'mean': 750.0, 'split_by_feature': None, 'error_of_split': None, \n",
    "                  'successor_left': None, \n",
    "                  'successor_right': None}\n",
    "            }\n",
    "\n",
    "\n",
    "if get_cart(\"Performance_01.csv\") == test_cart:\n",
    "    print(\"passed\")\n",
    "else:\n",
    "    print(\"failed\")"
   ]
  },
  {
   "cell_type": "code",
   "execution_count": null,
   "metadata": {},
   "outputs": [],
   "source": [
    "# Task 2b\n",
    "if get_error_rate(test_cart, \"Performance_02b.csv\") == 5:\n",
    "    print(\"passed\")\n",
    "else:\n",
    "    print(\"failed\")"
   ]
  },
  {
   "cell_type": "code",
   "execution_count": null,
   "metadata": {},
   "outputs": [],
   "source": [
    "# Task 2c\n",
    "test_cart_v2 = {'name': 'X', 'mean': 763.2, 'split_by_feature': 'zip', 'error_of_split': 0.0, \n",
    "                 'successor_left': {'name': 'XL', 'mean': 772.0, 'split_by_feature': None, 'error_of_split': None, \n",
    "                                    'successor_left': None, \n",
    "                                    'successor_right': None}, \n",
    "                 'successor_right': {'name': 'XR', 'mean': 750.0, 'split_by_feature': None, 'error_of_split': None, \n",
    "                                     'successor_left': None, \n",
    "                                     'successor_right': None}\n",
    "                }\n",
    "\n",
    "optimal_config = get_optimal_configuration(test_cart_v2, {\"secompress\", \"encryption\", \"aes\", \"algorithm\", \"signature\",\n",
    "                                                        \"timestamp\", \"segmentation\", \"onehundredmb\"})\n",
    "reference = {'aes', 'algorithm', 'encryption', 'onehundredmb', 'rar', 'secompress', 'segmentation', 'signature',\n",
    "            'timestamp'}\n",
    "\n",
    "if optimal_config == reference:\n",
    "    print(\"passed\")\n",
    "else:\n",
    "    print(\"failed\")"
   ]
  },
  {
   "cell_type": "code",
   "execution_count": null,
   "metadata": {},
   "outputs": [],
   "source": []
  }
 ],
 "metadata": {
  "kernelspec": {
   "display_name": "assignment-04",
   "language": "python",
   "name": "assignment-04"
  },
  "language_info": {
   "codemirror_mode": {
    "name": "ipython",
    "version": 3
   },
   "file_extension": ".py",
   "mimetype": "text/x-python",
   "name": "python",
   "nbconvert_exporter": "python",
   "pygments_lexer": "ipython3",
   "version": "3.10.4"
  },
  "vscode": {
   "interpreter": {
    "hash": "2e9103470a1af642511ce5dd04840d22ef7b6637fcf5d10ad9592730e5c51340"
   }
  }
 },
 "nbformat": 4,
 "nbformat_minor": 4
}
